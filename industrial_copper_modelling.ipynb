{
  "nbformat": 4,
  "nbformat_minor": 0,
  "metadata": {
    "colab": {
      "provenance": []
    },
    "kernelspec": {
      "name": "python3",
      "display_name": "Python 3"
    },
    "language_info": {
      "name": "python"
    }
  },
  "cells": [
    {
      "cell_type": "code",
      "execution_count": null,
      "metadata": {
        "id": "MfRctNs98Saj"
      },
      "outputs": [],
      "source": [
        "import warnings\n",
        "warnings.filterwarnings(\"ignore\")\n",
        "import pandas as pd"
      ]
    },
    {
      "cell_type": "code",
      "source": [
        "# Read the CSV file into a pandas dataframe\n",
        "df = pd.read_csv(r\"/content/Copper_Set.csv\")\n",
        "df.head(2)"
      ],
      "metadata": {
        "colab": {
          "base_uri": "https://localhost:8080/",
          "height": 253
        },
        "id": "tUXEXA0G8ZUr",
        "outputId": "f8efea15-d21e-4ca1-a573-092497c4283b"
      },
      "execution_count": null,
      "outputs": [
        {
          "output_type": "execute_result",
          "data": {
            "text/plain": [
              "                                     id  item_date  quantity tons    customer  \\\n",
              "0  EC06F063-9DF0-440C-8764-0B0C05A4F6AE   20210401      54.151139  30156308.0   \n",
              "1  4E5F4B3D-DDDF-499D-AFDE-A3227EC49425   20210401     768.024839  30202938.0   \n",
              "\n",
              "   country status item type  application  thickness   width  \\\n",
              "0     28.0    Won         W         10.0        2.0  1500.0   \n",
              "1     25.0    Won         W         41.0        0.8  1210.0   \n",
              "\n",
              "                               material_ref   product_ref  delivery date  \\\n",
              "0                               DEQ1 S460MC  1.670799e+09     20210701.0   \n",
              "1  0000000000000000000000000000000000104991  1.668702e+09     20210401.0   \n",
              "\n",
              "   selling_price  \n",
              "0          854.0  \n",
              "1         1047.0  "
            ],
            "text/html": [
              "\n",
              "  <div id=\"df-c185cd91-98bd-426b-8cdf-54053ad4260a\" class=\"colab-df-container\">\n",
              "    <div>\n",
              "<style scoped>\n",
              "    .dataframe tbody tr th:only-of-type {\n",
              "        vertical-align: middle;\n",
              "    }\n",
              "\n",
              "    .dataframe tbody tr th {\n",
              "        vertical-align: top;\n",
              "    }\n",
              "\n",
              "    .dataframe thead th {\n",
              "        text-align: right;\n",
              "    }\n",
              "</style>\n",
              "<table border=\"1\" class=\"dataframe\">\n",
              "  <thead>\n",
              "    <tr style=\"text-align: right;\">\n",
              "      <th></th>\n",
              "      <th>id</th>\n",
              "      <th>item_date</th>\n",
              "      <th>quantity tons</th>\n",
              "      <th>customer</th>\n",
              "      <th>country</th>\n",
              "      <th>status</th>\n",
              "      <th>item type</th>\n",
              "      <th>application</th>\n",
              "      <th>thickness</th>\n",
              "      <th>width</th>\n",
              "      <th>material_ref</th>\n",
              "      <th>product_ref</th>\n",
              "      <th>delivery date</th>\n",
              "      <th>selling_price</th>\n",
              "    </tr>\n",
              "  </thead>\n",
              "  <tbody>\n",
              "    <tr>\n",
              "      <th>0</th>\n",
              "      <td>EC06F063-9DF0-440C-8764-0B0C05A4F6AE</td>\n",
              "      <td>20210401</td>\n",
              "      <td>54.151139</td>\n",
              "      <td>30156308.0</td>\n",
              "      <td>28.0</td>\n",
              "      <td>Won</td>\n",
              "      <td>W</td>\n",
              "      <td>10.0</td>\n",
              "      <td>2.0</td>\n",
              "      <td>1500.0</td>\n",
              "      <td>DEQ1 S460MC</td>\n",
              "      <td>1.670799e+09</td>\n",
              "      <td>20210701.0</td>\n",
              "      <td>854.0</td>\n",
              "    </tr>\n",
              "    <tr>\n",
              "      <th>1</th>\n",
              "      <td>4E5F4B3D-DDDF-499D-AFDE-A3227EC49425</td>\n",
              "      <td>20210401</td>\n",
              "      <td>768.024839</td>\n",
              "      <td>30202938.0</td>\n",
              "      <td>25.0</td>\n",
              "      <td>Won</td>\n",
              "      <td>W</td>\n",
              "      <td>41.0</td>\n",
              "      <td>0.8</td>\n",
              "      <td>1210.0</td>\n",
              "      <td>0000000000000000000000000000000000104991</td>\n",
              "      <td>1.668702e+09</td>\n",
              "      <td>20210401.0</td>\n",
              "      <td>1047.0</td>\n",
              "    </tr>\n",
              "  </tbody>\n",
              "</table>\n",
              "</div>\n",
              "    <div class=\"colab-df-buttons\">\n",
              "\n",
              "  <div class=\"colab-df-container\">\n",
              "    <button class=\"colab-df-convert\" onclick=\"convertToInteractive('df-c185cd91-98bd-426b-8cdf-54053ad4260a')\"\n",
              "            title=\"Convert this dataframe to an interactive table.\"\n",
              "            style=\"display:none;\">\n",
              "\n",
              "  <svg xmlns=\"http://www.w3.org/2000/svg\" height=\"24px\" viewBox=\"0 -960 960 960\">\n",
              "    <path d=\"M120-120v-720h720v720H120Zm60-500h600v-160H180v160Zm220 220h160v-160H400v160Zm0 220h160v-160H400v160ZM180-400h160v-160H180v160Zm440 0h160v-160H620v160ZM180-180h160v-160H180v160Zm440 0h160v-160H620v160Z\"/>\n",
              "  </svg>\n",
              "    </button>\n",
              "\n",
              "  <style>\n",
              "    .colab-df-container {\n",
              "      display:flex;\n",
              "      gap: 12px;\n",
              "    }\n",
              "\n",
              "    .colab-df-convert {\n",
              "      background-color: #E8F0FE;\n",
              "      border: none;\n",
              "      border-radius: 50%;\n",
              "      cursor: pointer;\n",
              "      display: none;\n",
              "      fill: #1967D2;\n",
              "      height: 32px;\n",
              "      padding: 0 0 0 0;\n",
              "      width: 32px;\n",
              "    }\n",
              "\n",
              "    .colab-df-convert:hover {\n",
              "      background-color: #E2EBFA;\n",
              "      box-shadow: 0px 1px 2px rgba(60, 64, 67, 0.3), 0px 1px 3px 1px rgba(60, 64, 67, 0.15);\n",
              "      fill: #174EA6;\n",
              "    }\n",
              "\n",
              "    .colab-df-buttons div {\n",
              "      margin-bottom: 4px;\n",
              "    }\n",
              "\n",
              "    [theme=dark] .colab-df-convert {\n",
              "      background-color: #3B4455;\n",
              "      fill: #D2E3FC;\n",
              "    }\n",
              "\n",
              "    [theme=dark] .colab-df-convert:hover {\n",
              "      background-color: #434B5C;\n",
              "      box-shadow: 0px 1px 3px 1px rgba(0, 0, 0, 0.15);\n",
              "      filter: drop-shadow(0px 1px 2px rgba(0, 0, 0, 0.3));\n",
              "      fill: #FFFFFF;\n",
              "    }\n",
              "  </style>\n",
              "\n",
              "    <script>\n",
              "      const buttonEl =\n",
              "        document.querySelector('#df-c185cd91-98bd-426b-8cdf-54053ad4260a button.colab-df-convert');\n",
              "      buttonEl.style.display =\n",
              "        google.colab.kernel.accessAllowed ? 'block' : 'none';\n",
              "\n",
              "      async function convertToInteractive(key) {\n",
              "        const element = document.querySelector('#df-c185cd91-98bd-426b-8cdf-54053ad4260a');\n",
              "        const dataTable =\n",
              "          await google.colab.kernel.invokeFunction('convertToInteractive',\n",
              "                                                    [key], {});\n",
              "        if (!dataTable) return;\n",
              "\n",
              "        const docLinkHtml = 'Like what you see? Visit the ' +\n",
              "          '<a target=\"_blank\" href=https://colab.research.google.com/notebooks/data_table.ipynb>data table notebook</a>'\n",
              "          + ' to learn more about interactive tables.';\n",
              "        element.innerHTML = '';\n",
              "        dataTable['output_type'] = 'display_data';\n",
              "        await google.colab.output.renderOutput(dataTable, element);\n",
              "        const docLink = document.createElement('div');\n",
              "        docLink.innerHTML = docLinkHtml;\n",
              "        element.appendChild(docLink);\n",
              "      }\n",
              "    </script>\n",
              "  </div>\n",
              "\n",
              "\n",
              "<div id=\"df-a0b1d465-dc68-4dc8-927a-3283a29d7996\">\n",
              "  <button class=\"colab-df-quickchart\" onclick=\"quickchart('df-a0b1d465-dc68-4dc8-927a-3283a29d7996')\"\n",
              "            title=\"Suggest charts.\"\n",
              "            style=\"display:none;\">\n",
              "\n",
              "<svg xmlns=\"http://www.w3.org/2000/svg\" height=\"24px\"viewBox=\"0 0 24 24\"\n",
              "     width=\"24px\">\n",
              "    <g>\n",
              "        <path d=\"M19 3H5c-1.1 0-2 .9-2 2v14c0 1.1.9 2 2 2h14c1.1 0 2-.9 2-2V5c0-1.1-.9-2-2-2zM9 17H7v-7h2v7zm4 0h-2V7h2v10zm4 0h-2v-4h2v4z\"/>\n",
              "    </g>\n",
              "</svg>\n",
              "  </button>\n",
              "\n",
              "<style>\n",
              "  .colab-df-quickchart {\n",
              "      --bg-color: #E8F0FE;\n",
              "      --fill-color: #1967D2;\n",
              "      --hover-bg-color: #E2EBFA;\n",
              "      --hover-fill-color: #174EA6;\n",
              "      --disabled-fill-color: #AAA;\n",
              "      --disabled-bg-color: #DDD;\n",
              "  }\n",
              "\n",
              "  [theme=dark] .colab-df-quickchart {\n",
              "      --bg-color: #3B4455;\n",
              "      --fill-color: #D2E3FC;\n",
              "      --hover-bg-color: #434B5C;\n",
              "      --hover-fill-color: #FFFFFF;\n",
              "      --disabled-bg-color: #3B4455;\n",
              "      --disabled-fill-color: #666;\n",
              "  }\n",
              "\n",
              "  .colab-df-quickchart {\n",
              "    background-color: var(--bg-color);\n",
              "    border: none;\n",
              "    border-radius: 50%;\n",
              "    cursor: pointer;\n",
              "    display: none;\n",
              "    fill: var(--fill-color);\n",
              "    height: 32px;\n",
              "    padding: 0;\n",
              "    width: 32px;\n",
              "  }\n",
              "\n",
              "  .colab-df-quickchart:hover {\n",
              "    background-color: var(--hover-bg-color);\n",
              "    box-shadow: 0 1px 2px rgba(60, 64, 67, 0.3), 0 1px 3px 1px rgba(60, 64, 67, 0.15);\n",
              "    fill: var(--button-hover-fill-color);\n",
              "  }\n",
              "\n",
              "  .colab-df-quickchart-complete:disabled,\n",
              "  .colab-df-quickchart-complete:disabled:hover {\n",
              "    background-color: var(--disabled-bg-color);\n",
              "    fill: var(--disabled-fill-color);\n",
              "    box-shadow: none;\n",
              "  }\n",
              "\n",
              "  .colab-df-spinner {\n",
              "    border: 2px solid var(--fill-color);\n",
              "    border-color: transparent;\n",
              "    border-bottom-color: var(--fill-color);\n",
              "    animation:\n",
              "      spin 1s steps(1) infinite;\n",
              "  }\n",
              "\n",
              "  @keyframes spin {\n",
              "    0% {\n",
              "      border-color: transparent;\n",
              "      border-bottom-color: var(--fill-color);\n",
              "      border-left-color: var(--fill-color);\n",
              "    }\n",
              "    20% {\n",
              "      border-color: transparent;\n",
              "      border-left-color: var(--fill-color);\n",
              "      border-top-color: var(--fill-color);\n",
              "    }\n",
              "    30% {\n",
              "      border-color: transparent;\n",
              "      border-left-color: var(--fill-color);\n",
              "      border-top-color: var(--fill-color);\n",
              "      border-right-color: var(--fill-color);\n",
              "    }\n",
              "    40% {\n",
              "      border-color: transparent;\n",
              "      border-right-color: var(--fill-color);\n",
              "      border-top-color: var(--fill-color);\n",
              "    }\n",
              "    60% {\n",
              "      border-color: transparent;\n",
              "      border-right-color: var(--fill-color);\n",
              "    }\n",
              "    80% {\n",
              "      border-color: transparent;\n",
              "      border-right-color: var(--fill-color);\n",
              "      border-bottom-color: var(--fill-color);\n",
              "    }\n",
              "    90% {\n",
              "      border-color: transparent;\n",
              "      border-bottom-color: var(--fill-color);\n",
              "    }\n",
              "  }\n",
              "</style>\n",
              "\n",
              "  <script>\n",
              "    async function quickchart(key) {\n",
              "      const quickchartButtonEl =\n",
              "        document.querySelector('#' + key + ' button');\n",
              "      quickchartButtonEl.disabled = true;  // To prevent multiple clicks.\n",
              "      quickchartButtonEl.classList.add('colab-df-spinner');\n",
              "      try {\n",
              "        const charts = await google.colab.kernel.invokeFunction(\n",
              "            'suggestCharts', [key], {});\n",
              "      } catch (error) {\n",
              "        console.error('Error during call to suggestCharts:', error);\n",
              "      }\n",
              "      quickchartButtonEl.classList.remove('colab-df-spinner');\n",
              "      quickchartButtonEl.classList.add('colab-df-quickchart-complete');\n",
              "    }\n",
              "    (() => {\n",
              "      let quickchartButtonEl =\n",
              "        document.querySelector('#df-a0b1d465-dc68-4dc8-927a-3283a29d7996 button');\n",
              "      quickchartButtonEl.style.display =\n",
              "        google.colab.kernel.accessAllowed ? 'block' : 'none';\n",
              "    })();\n",
              "  </script>\n",
              "</div>\n",
              "    </div>\n",
              "  </div>\n"
            ]
          },
          "metadata": {},
          "execution_count": 10
        }
      ]
    },
    {
      "cell_type": "code",
      "source": [
        "print(len(df['item_date'].unique()))\n",
        "print(len(df['customer'].unique()))\n",
        "print(len(df['material_ref'].unique()))\n",
        "print(len(df['product_ref'].unique()))\n",
        "print(len(df['delivery date'].unique()))"
      ],
      "metadata": {
        "colab": {
          "base_uri": "https://localhost:8080/"
        },
        "id": "24ihAAy69MCm",
        "outputId": "153651e8-aba0-474a-eed8-913745e13492"
      },
      "execution_count": null,
      "outputs": [
        {
          "output_type": "stream",
          "name": "stdout",
          "text": [
            "37\n",
            "795\n",
            "7828\n",
            "30\n",
            "22\n"
          ]
        }
      ]
    },
    {
      "cell_type": "code",
      "source": [
        "# null values, shape and data types before dealing with incorrect data\n",
        "df.shape"
      ],
      "metadata": {
        "colab": {
          "base_uri": "https://localhost:8080/"
        },
        "id": "TNClkAMsARqR",
        "outputId": "ec8a2e33-6ee7-4bcc-d5c7-2aafe7cb1bd3"
      },
      "execution_count": null,
      "outputs": [
        {
          "output_type": "execute_result",
          "data": {
            "text/plain": [
              "(33540, 14)"
            ]
          },
          "metadata": {},
          "execution_count": 12
        }
      ]
    },
    {
      "cell_type": "code",
      "source": [
        "# missing values\n",
        "missing_values_count = df.isnull().sum()\n",
        "print(missing_values_count)"
      ],
      "metadata": {
        "colab": {
          "base_uri": "https://localhost:8080/"
        },
        "id": "Kfa25hbKAYxd",
        "outputId": "1b4d2d1a-ca06-402c-d8cf-591b7c23558e"
      },
      "execution_count": null,
      "outputs": [
        {
          "output_type": "stream",
          "name": "stdout",
          "text": [
            "id                   1\n",
            "item_date            0\n",
            "quantity tons        0\n",
            "customer             1\n",
            "country              1\n",
            "status               1\n",
            "item type            1\n",
            "application          1\n",
            "thickness            1\n",
            "width                1\n",
            "material_ref     14458\n",
            "product_ref          1\n",
            "delivery date        1\n",
            "selling_price        1\n",
            "dtype: int64\n"
          ]
        }
      ]
    },
    {
      "cell_type": "code",
      "source": [
        "df.info()"
      ],
      "metadata": {
        "colab": {
          "base_uri": "https://localhost:8080/"
        },
        "id": "uaMKG8EaAkSp",
        "outputId": "2cbfc64a-0a35-4ba9-ba4c-d109ea1effa4"
      },
      "execution_count": null,
      "outputs": [
        {
          "output_type": "stream",
          "name": "stdout",
          "text": [
            "<class 'pandas.core.frame.DataFrame'>\n",
            "RangeIndex: 33540 entries, 0 to 33539\n",
            "Data columns (total 14 columns):\n",
            " #   Column         Non-Null Count  Dtype  \n",
            "---  ------         --------------  -----  \n",
            " 0   id             33539 non-null  object \n",
            " 1   item_date      33540 non-null  int64  \n",
            " 2   quantity tons  33540 non-null  float64\n",
            " 3   customer       33539 non-null  float64\n",
            " 4   country        33539 non-null  float64\n",
            " 5   status         33539 non-null  object \n",
            " 6   item type      33539 non-null  object \n",
            " 7   application    33539 non-null  float64\n",
            " 8   thickness      33539 non-null  float64\n",
            " 9   width          33539 non-null  float64\n",
            " 10  material_ref   19082 non-null  object \n",
            " 11  product_ref    33539 non-null  float64\n",
            " 12  delivery date  33539 non-null  float64\n",
            " 13  selling_price  33539 non-null  float64\n",
            "dtypes: float64(9), int64(1), object(4)\n",
            "memory usage: 3.6+ MB\n"
          ]
        }
      ]
    },
    {
      "cell_type": "code",
      "source": [
        "# Dealing with data in wrong format\n",
        "# dealing with data in wrong format\n",
        "# for categorical variables, this step is ignored\n",
        "# df = df[df['status'].isin(['Won', 'Lost'])]\n",
        "df['item_date'] = pd.to_datetime(df['item_date'], format='%Y%m%d', errors='coerce').dt.date\n",
        "df['quantity tons'] = pd.to_numeric(df['quantity tons'], errors='coerce')\n",
        "df['customer'] = pd.to_numeric(df['customer'], errors='coerce')\n",
        "df['country'] = pd.to_numeric(df['country'], errors='coerce')\n",
        "df['application'] = pd.to_numeric(df['application'], errors='coerce')\n",
        "df['thickness'] = pd.to_numeric(df['thickness'], errors='coerce')\n",
        "df['width'] = pd.to_numeric(df['width'], errors='coerce')\n",
        "df['material_ref'] = df['material_ref'].str.lstrip('0')\n",
        "df['product_ref'] = pd.to_numeric(df['product_ref'], errors='coerce')\n",
        "df['delivery date'] = pd.to_datetime(df['delivery date'], format='%Y%m%d', errors='coerce').dt.date\n",
        "df['selling_price'] = pd.to_numeric(df['selling_price'], errors='coerce')"
      ],
      "metadata": {
        "id": "G-BIIHF7BN7F"
      },
      "execution_count": null,
      "outputs": []
    },
    {
      "cell_type": "code",
      "source": [
        "# Nan values and shape after dealing with data in wrong format\n",
        "missing_values_count = df.isnull().sum()\n",
        "print(missing_values_count)\n",
        "print(df.shape)\n",
        "df.info()"
      ],
      "metadata": {
        "colab": {
          "base_uri": "https://localhost:8080/"
        },
        "id": "ufvnu1ypCZlr",
        "outputId": "bc9a8aa8-2a8c-41ec-f752-a30e37e0fb84"
      },
      "execution_count": null,
      "outputs": [
        {
          "output_type": "stream",
          "name": "stdout",
          "text": [
            "id                   1\n",
            "item_date            1\n",
            "quantity tons        0\n",
            "customer             1\n",
            "country              1\n",
            "status               1\n",
            "item type            1\n",
            "application          1\n",
            "thickness            1\n",
            "width                1\n",
            "material_ref     14458\n",
            "product_ref          1\n",
            "delivery date        2\n",
            "selling_price        1\n",
            "dtype: int64\n",
            "(33540, 14)\n",
            "<class 'pandas.core.frame.DataFrame'>\n",
            "RangeIndex: 33540 entries, 0 to 33539\n",
            "Data columns (total 14 columns):\n",
            " #   Column         Non-Null Count  Dtype  \n",
            "---  ------         --------------  -----  \n",
            " 0   id             33539 non-null  object \n",
            " 1   item_date      33539 non-null  object \n",
            " 2   quantity tons  33540 non-null  float64\n",
            " 3   customer       33539 non-null  float64\n",
            " 4   country        33539 non-null  float64\n",
            " 5   status         33539 non-null  object \n",
            " 6   item type      33539 non-null  object \n",
            " 7   application    33539 non-null  float64\n",
            " 8   thickness      33539 non-null  float64\n",
            " 9   width          33539 non-null  float64\n",
            " 10  material_ref   19082 non-null  object \n",
            " 11  product_ref    33539 non-null  float64\n",
            " 12  delivery date  33538 non-null  object \n",
            " 13  selling_price  33539 non-null  float64\n",
            "dtypes: float64(8), object(6)\n",
            "memory usage: 3.6+ MB\n"
          ]
        }
      ]
    },
    {
      "cell_type": "code",
      "source": [
        "# Dealing with Missing Values\n",
        "# material_ref has large set of null values, so replacing them with unknown\n",
        "df['material_ref'].fillna('unknown', inplace=True)\n",
        "# deleting the remaining null values as they are less than 1% of data which can be neglected\n",
        "df = df.dropna()"
      ],
      "metadata": {
        "id": "KWitNJdrCiFt"
      },
      "execution_count": null,
      "outputs": []
    },
    {
      "cell_type": "code",
      "source": [
        "missing_values_count = df.isnull().sum()\n",
        "print(missing_values_count)\n",
        "print(df.shape)"
      ],
      "metadata": {
        "colab": {
          "base_uri": "https://localhost:8080/"
        },
        "id": "nEYryDpIDBn2",
        "outputId": "34e60822-a191-46d0-df68-99cd8c64aeb4"
      },
      "execution_count": null,
      "outputs": [
        {
          "output_type": "stream",
          "name": "stdout",
          "text": [
            "id               0\n",
            "item_date        0\n",
            "quantity tons    0\n",
            "customer         0\n",
            "country          0\n",
            "status           0\n",
            "item type        0\n",
            "application      0\n",
            "thickness        0\n",
            "width            0\n",
            "material_ref     0\n",
            "product_ref      0\n",
            "delivery date    0\n",
            "selling_price    0\n",
            "dtype: int64\n",
            "(33536, 14)\n"
          ]
        }
      ]
    },
    {
      "cell_type": "code",
      "source": [
        "df_p=df.copy()"
      ],
      "metadata": {
        "id": "bzowwqnGDEdO"
      },
      "execution_count": null,
      "outputs": []
    },
    {
      "cell_type": "code",
      "source": [
        "# PLOTTING\n",
        "\n",
        "# ['quantity tons','selling_price','application','thickness','width', 'country']\n",
        "# ['status','item type']\n",
        "\n",
        "df_p['quantity tons']   # skewed\n",
        "df_p['country']\n",
        "df_p['application']\n",
        "df_p['thickness']       # skewed\n",
        "df_p['width']\n",
        "df_p['selling_price']   # skewed\n",
        "\n",
        "import seaborn as sns\n",
        "import matplotlib.pyplot as plt\n",
        "sns.distplot(df_p['quantity tons'])\n",
        "plt.show()\n",
        "sns.distplot(df_p['country'])\n",
        "plt.show()\n",
        "sns.distplot(df_p['application'])\n",
        "plt.show()\n",
        "sns.distplot(df_p['thickness'])\n",
        "plt.show()\n",
        "sns.distplot(df_p['width'])\n",
        "plt.show()\n",
        "sns.distplot(df_p['selling_price'])\n",
        "plt.show()"
      ],
      "metadata": {
        "colab": {
          "base_uri": "https://localhost:8080/",
          "height": 1000
        },
        "id": "7mranoZ_Dn0A",
        "outputId": "87e4242c-5b26-4f98-f92f-b7ec00b33dd3"
      },
      "execution_count": null,
      "outputs": [
        {
          "output_type": "display_data",
          "data": {
            "text/plain": [
              "<Figure size 640x480 with 1 Axes>"
            ],
            "image/png": "[encoded data removed]"
          },
          "metadata": {}
        },
        {
          "output_type": "display_data",
          "data": {
            "text/plain": [
              "<Figure size 640x480 with 1 Axes>"
            ],
            "image/png": "[encoded data removed]"
          },
          "metadata": {}
        },
        {
          "output_type": "display_data",
          "data": {
            "text/plain": [
              "<Figure size 640x480 with 1 Axes>"
            ],
            "image/png": "[encoded data removed]"
          },
          "metadata": {}
        },
        {
          "output_type": "display_data",
          "data": {
            "text/plain": [
              "<Figure size 640x480 with 1 Axes>"
            ],
            "image/png": "[encoded data removed]"
          },
          "metadata": {}
        },
        {
          "output_type": "display_data",
          "data": {
            "text/plain": [
              "<Figure size 640x480 with 1 Axes>"
            ],
            "image/png": "[encoded data removed]"
          },
          "metadata": {}
        },
        {
          "output_type": "display_data",
          "data": {
            "text/plain": [
              "<Figure size 640x480 with 1 Axes>"
            ],
            "image/png": "[encoded data removed]"
          },
          "metadata": {}
        }
      ]
    },
    {
      "cell_type": "code",
      "source": [
        "import numpy as np\n",
        "mask1 = df_p['selling_price'] <= 0\n",
        "print(mask1.sum())\n",
        "df_p.loc[mask1, 'selling_price'] = np.nan\n",
        "\n",
        "mask1 = df_p['quantity tons'] <= 0\n",
        "print(mask1.sum())\n",
        "df_p.loc[mask1, 'quantity tons'] = np.nan\n",
        "\n",
        "mask1 = df_p['thickness'] <= 0\n",
        "print(mask1.sum())"
      ],
      "metadata": {
        "colab": {
          "base_uri": "https://localhost:8080/"
        },
        "id": "q5t-4CzIDyHG",
        "outputId": "c105e535-d8f7-4aaa-82df-59e988522508"
      },
      "execution_count": null,
      "outputs": [
        {
          "output_type": "stream",
          "name": "stdout",
          "text": [
            "2\n",
            "0\n",
            "0\n"
          ]
        }
      ]
    },
    {
      "cell_type": "code",
      "source": [
        "df_p.isnull().sum()"
      ],
      "metadata": {
        "colab": {
          "base_uri": "https://localhost:8080/"
        },
        "id": "l-duHJmiE-lw",
        "outputId": "eddbbb7b-7a6b-4320-ec6d-7377428c53ea"
      },
      "execution_count": null,
      "outputs": [
        {
          "output_type": "execute_result",
          "data": {
            "text/plain": [
              "id               0\n",
              "item_date        0\n",
              "quantity tons    0\n",
              "customer         0\n",
              "country          0\n",
              "status           0\n",
              "item type        0\n",
              "application      0\n",
              "thickness        0\n",
              "width            0\n",
              "material_ref     0\n",
              "product_ref      0\n",
              "delivery date    0\n",
              "selling_price    2\n",
              "dtype: int64"
            ]
          },
          "metadata": {},
          "execution_count": 23
        }
      ]
    },
    {
      "cell_type": "code",
      "source": [
        "df_p.dropna(inplace=True)\n",
        "len(df_p)\n"
      ],
      "metadata": {
        "colab": {
          "base_uri": "https://localhost:8080/"
        },
        "id": "8LnmvYbEFthv",
        "outputId": "d79c8e79-b4c6-43ab-941e-fa16e6708c71"
      },
      "execution_count": null,
      "outputs": [
        {
          "output_type": "execute_result",
          "data": {
            "text/plain": [
              "33534"
            ]
          },
          "metadata": {},
          "execution_count": 24
        }
      ]
    },
    {
      "cell_type": "code",
      "source": [
        "import numpy as np\n",
        "df_p['selling_price_log'] = np.log(df_p['selling_price'])\n",
        "sns.distplot(df_p['selling_price_log'])\n",
        "plt.show()\n",
        "\n",
        "df_p['quantity tons_log'] = np.log(df_p['quantity tons'])\n",
        "sns.distplot(df_p['quantity tons_log'])\n",
        "plt.show()\n",
        "\n",
        "df_p['thickness_log'] = np.log(df_p['thickness'])\n",
        "sns.distplot(df_p['thickness_log'])\n",
        "plt.show()\n",
        "# reverts log\n",
        "# df_p['reverted_values'] = np.exp(df_p['selling_price_log'])\n",
        "# sns.distplot(df_p['reverted_values'])\n",
        "# plt.show()\n"
      ],
      "metadata": {
        "colab": {
          "base_uri": "https://localhost:8080/",
          "height": 1000
        },
        "id": "O9npG5lyF2xd",
        "outputId": "515d6d0d-964b-4db4-f045-6ff2923902ba"
      },
      "execution_count": null,
      "outputs": [
        {
          "output_type": "display_data",
          "data": {
            "text/plain": [
              "<Figure size 640x480 with 1 Axes>"
            ],
            "image/png": "[encoded data removed]"
          },
          "metadata": {}
        },
        {
          "output_type": "display_data",
          "data": {
            "text/plain": [
              "<Figure size 640x480 with 1 Axes>"
            ],
            "image/png": "[encoded data removed]"
          },
          "metadata": {}
        },
        {
          "output_type": "display_data",
          "data": {
            "text/plain": [
              "<Figure size 640x480 with 1 Axes>"
            ],
            "image/png": "[encoded data removed]"
          },
          "metadata": {}
        }
      ]
    },
    {
      "cell_type": "code",
      "source": [
        "df_p.head()"
      ],
      "metadata": {
        "colab": {
          "base_uri": "https://localhost:8080/",
          "height": 486
        },
        "id": "UL1Ido7oGBPT",
        "outputId": "975fecb8-4c94-497b-b7f7-bed2ead7b099"
      },
      "execution_count": null,
      "outputs": [
        {
          "output_type": "execute_result",
          "data": {
            "text/plain": [
              "                                     id   item_date  quantity tons  \\\n",
              "0  EC06F063-9DF0-440C-8764-0B0C05A4F6AE  2021-04-01      54.151139   \n",
              "1  4E5F4B3D-DDDF-499D-AFDE-A3227EC49425  2021-04-01     768.024839   \n",
              "2  E140FF1B-2407-4C02-A0DD-780A093B1158  2021-04-01     386.127949   \n",
              "3  F8D507A0-9C62-4EFE-831E-33E1DA53BB50  2021-04-01     202.411065   \n",
              "4  4E1C4E78-152B-430A-8094-ADD889C9D0AD  2021-04-01     785.526262   \n",
              "\n",
              "     customer  country status item type  application  thickness   width  \\\n",
              "0  30156308.0     28.0    Won         W         10.0       2.00  1500.0   \n",
              "1  30202938.0     25.0    Won         W         41.0       0.80  1210.0   \n",
              "2  30153963.0     30.0    Won        WI         28.0       0.38   952.0   \n",
              "3  30349574.0     32.0    Won         S         59.0       2.30  1317.0   \n",
              "4  30211560.0     28.0    Won         W         10.0       4.00  2000.0   \n",
              "\n",
              "              material_ref   product_ref delivery date  selling_price  \\\n",
              "0              DEQ1 S460MC  1.670799e+09    2021-07-01         854.00   \n",
              "1                   104991  1.668702e+09    2021-04-01        1047.00   \n",
              "2                 S0380700  6.283770e+05    2021-01-01         644.33   \n",
              "3  DX51D+ZM310MAO 2.3X1317  1.668702e+09    2021-01-01         768.00   \n",
              "4          2_S275JR+AR-CL1  6.406650e+05    2021-03-01         577.00   \n",
              "\n",
              "   selling_price_log  quantity tons_log  thickness_log  \n",
              "0           6.749931           3.991779       0.693147  \n",
              "1           6.953684           6.643822      -0.223144  \n",
              "2           6.468211           5.956169      -0.967584  \n",
              "3           6.643790           5.310301       0.832909  \n",
              "4           6.357842           6.666354       1.386294  "
            ],
            "text/html": [
              "\n",
              "  <div id=\"df-7b45957c-8958-43f0-9425-e0f9ed141320\" class=\"colab-df-container\">\n",
              "    <div>\n",
              "<style scoped>\n",
              "    .dataframe tbody tr th:only-of-type {\n",
              "        vertical-align: middle;\n",
              "    }\n",
              "\n",
              "    .dataframe tbody tr th {\n",
              "        vertical-align: top;\n",
              "    }\n",
              "\n",
              "    .dataframe thead th {\n",
              "        text-align: right;\n",
              "    }\n",
              "</style>\n",
              "<table border=\"1\" class=\"dataframe\">\n",
              "  <thead>\n",
              "    <tr style=\"text-align: right;\">\n",
              "      <th></th>\n",
              "      <th>id</th>\n",
              "      <th>item_date</th>\n",
              "      <th>quantity tons</th>\n",
              "      <th>customer</th>\n",
              "      <th>country</th>\n",
              "      <th>status</th>\n",
              "      <th>item type</th>\n",
              "      <th>application</th>\n",
              "      <th>thickness</th>\n",
              "      <th>width</th>\n",
              "      <th>material_ref</th>\n",
              "      <th>product_ref</th>\n",
              "      <th>delivery date</th>\n",
              "      <th>selling_price</th>\n",
              "      <th>selling_price_log</th>\n",
              "      <th>quantity tons_log</th>\n",
              "      <th>thickness_log</th>\n",
              "    </tr>\n",
              "  </thead>\n",
              "  <tbody>\n",
              "    <tr>\n",
              "      <th>0</th>\n",
              "      <td>EC06F063-9DF0-440C-8764-0B0C05A4F6AE</td>\n",
              "      <td>2021-04-01</td>\n",
              "      <td>54.151139</td>\n",
              "      <td>30156308.0</td>\n",
              "      <td>28.0</td>\n",
              "      <td>Won</td>\n",
              "      <td>W</td>\n",
              "      <td>10.0</td>\n",
              "      <td>2.00</td>\n",
              "      <td>1500.0</td>\n",
              "      <td>DEQ1 S460MC</td>\n",
              "      <td>1.670799e+09</td>\n",
              "      <td>2021-07-01</td>\n",
              "      <td>854.00</td>\n",
              "      <td>6.749931</td>\n",
              "      <td>3.991779</td>\n",
              "      <td>0.693147</td>\n",
              "    </tr>\n",
              "    <tr>\n",
              "      <th>1</th>\n",
              "      <td>4E5F4B3D-DDDF-499D-AFDE-A3227EC49425</td>\n",
              "      <td>2021-04-01</td>\n",
              "      <td>768.024839</td>\n",
              "      <td>30202938.0</td>\n",
              "      <td>25.0</td>\n",
              "      <td>Won</td>\n",
              "      <td>W</td>\n",
              "      <td>41.0</td>\n",
              "      <td>0.80</td>\n",
              "      <td>1210.0</td>\n",
              "      <td>104991</td>\n",
              "      <td>1.668702e+09</td>\n",
              "      <td>2021-04-01</td>\n",
              "      <td>1047.00</td>\n",
              "      <td>6.953684</td>\n",
              "      <td>6.643822</td>\n",
              "      <td>-0.223144</td>\n",
              "    </tr>\n",
              "    <tr>\n",
              "      <th>2</th>\n",
              "      <td>E140FF1B-2407-4C02-A0DD-780A093B1158</td>\n",
              "      <td>2021-04-01</td>\n",
              "      <td>386.127949</td>\n",
              "      <td>30153963.0</td>\n",
              "      <td>30.0</td>\n",
              "      <td>Won</td>\n",
              "      <td>WI</td>\n",
              "      <td>28.0</td>\n",
              "      <td>0.38</td>\n",
              "      <td>952.0</td>\n",
              "      <td>S0380700</td>\n",
              "      <td>6.283770e+05</td>\n",
              "      <td>2021-01-01</td>\n",
              "      <td>644.33</td>\n",
              "      <td>6.468211</td>\n",
              "      <td>5.956169</td>\n",
              "      <td>-0.967584</td>\n",
              "    </tr>\n",
              "    <tr>\n",
              "      <th>3</th>\n",
              "      <td>F8D507A0-9C62-4EFE-831E-33E1DA53BB50</td>\n",
              "      <td>2021-04-01</td>\n",
              "      <td>202.411065</td>\n",
              "      <td>30349574.0</td>\n",
              "      <td>32.0</td>\n",
              "      <td>Won</td>\n",
              "      <td>S</td>\n",
              "      <td>59.0</td>\n",
              "      <td>2.30</td>\n",
              "      <td>1317.0</td>\n",
              "      <td>DX51D+ZM310MAO 2.3X1317</td>\n",
              "      <td>1.668702e+09</td>\n",
              "      <td>2021-01-01</td>\n",
              "      <td>768.00</td>\n",
              "      <td>6.643790</td>\n",
              "      <td>5.310301</td>\n",
              "      <td>0.832909</td>\n",
              "    </tr>\n",
              "    <tr>\n",
              "      <th>4</th>\n",
              "      <td>4E1C4E78-152B-430A-8094-ADD889C9D0AD</td>\n",
              "      <td>2021-04-01</td>\n",
              "      <td>785.526262</td>\n",
              "      <td>30211560.0</td>\n",
              "      <td>28.0</td>\n",
              "      <td>Won</td>\n",
              "      <td>W</td>\n",
              "      <td>10.0</td>\n",
              "      <td>4.00</td>\n",
              "      <td>2000.0</td>\n",
              "      <td>2_S275JR+AR-CL1</td>\n",
              "      <td>6.406650e+05</td>\n",
              "      <td>2021-03-01</td>\n",
              "      <td>577.00</td>\n",
              "      <td>6.357842</td>\n",
              "      <td>6.666354</td>\n",
              "      <td>1.386294</td>\n",
              "    </tr>\n",
              "  </tbody>\n",
              "</table>\n",
              "</div>\n",
              "    <div class=\"colab-df-buttons\">\n",
              "\n",
              "  <div class=\"colab-df-container\">\n",
              "    <button class=\"colab-df-convert\" onclick=\"convertToInteractive('df-7b45957c-8958-43f0-9425-e0f9ed141320')\"\n",
              "            title=\"Convert this dataframe to an interactive table.\"\n",
              "            style=\"display:none;\">\n",
              "\n",
              "  <svg xmlns=\"http://www.w3.org/2000/svg\" height=\"24px\" viewBox=\"0 -960 960 960\">\n",
              "    <path d=\"M120-120v-720h720v720H120Zm60-500h600v-160H180v160Zm220 220h160v-160H400v160Zm0 220h160v-160H400v160ZM180-400h160v-160H180v160Zm440 0h160v-160H620v160ZM180-180h160v-160H180v160Zm440 0h160v-160H620v160Z\"/>\n",
              "  </svg>\n",
              "    </button>\n",
              "\n",
              "  <style>\n",
              "    .colab-df-container {\n",
              "      display:flex;\n",
              "      gap: 12px;\n",
              "    }\n",
              "\n",
              "    .colab-df-convert {\n",
              "      background-color: #E8F0FE;\n",
              "      border: none;\n",
              "      border-radius: 50%;\n",
              "      cursor: pointer;\n",
              "      display: none;\n",
              "      fill: #1967D2;\n",
              "      height: 32px;\n",
              "      padding: 0 0 0 0;\n",
              "      width: 32px;\n",
              "    }\n",
              "\n",
              "    .colab-df-convert:hover {\n",
              "      background-color: #E2EBFA;\n",
              "      box-shadow: 0px 1px 2px rgba(60, 64, 67, 0.3), 0px 1px 3px 1px rgba(60, 64, 67, 0.15);\n",
              "      fill: #174EA6;\n",
              "    }\n",
              "\n",
              "    .colab-df-buttons div {\n",
              "      margin-bottom: 4px;\n",
              "    }\n",
              "\n",
              "    [theme=dark] .colab-df-convert {\n",
              "      background-color: #3B4455;\n",
              "      fill: #D2E3FC;\n",
              "    }\n",
              "\n",
              "    [theme=dark] .colab-df-convert:hover {\n",
              "      background-color: #434B5C;\n",
              "      box-shadow: 0px 1px 3px 1px rgba(0, 0, 0, 0.15);\n",
              "      filter: drop-shadow(0px 1px 2px rgba(0, 0, 0, 0.3));\n",
              "      fill: #FFFFFF;\n",
              "    }\n",
              "  </style>\n",
              "\n",
              "    <script>\n",
              "      const buttonEl =\n",
              "        document.querySelector('#df-7b45957c-8958-43f0-9425-e0f9ed141320 button.colab-df-convert');\n",
              "      buttonEl.style.display =\n",
              "        google.colab.kernel.accessAllowed ? 'block' : 'none';\n",
              "\n",
              "      async function convertToInteractive(key) {\n",
              "        const element = document.querySelector('#df-7b45957c-8958-43f0-9425-e0f9ed141320');\n",
              "        const dataTable =\n",
              "          await google.colab.kernel.invokeFunction('convertToInteractive',\n",
              "                                                    [key], {});\n",
              "        if (!dataTable) return;\n",
              "\n",
              "        const docLinkHtml = 'Like what you see? Visit the ' +\n",
              "          '<a target=\"_blank\" href=https://colab.research.google.com/notebooks/data_table.ipynb>data table notebook</a>'\n",
              "          + ' to learn more about interactive tables.';\n",
              "        element.innerHTML = '';\n",
              "        dataTable['output_type'] = 'display_data';\n",
              "        await google.colab.output.renderOutput(dataTable, element);\n",
              "        const docLink = document.createElement('div');\n",
              "        docLink.innerHTML = docLinkHtml;\n",
              "        element.appendChild(docLink);\n",
              "      }\n",
              "    </script>\n",
              "  </div>\n",
              "\n",
              "\n",
              "<div id=\"df-b41415ef-e24b-4efc-923d-2742255c46f1\">\n",
              "  <button class=\"colab-df-quickchart\" onclick=\"quickchart('df-b41415ef-e24b-4efc-923d-2742255c46f1')\"\n",
              "            title=\"Suggest charts.\"\n",
              "            style=\"display:none;\">\n",
              "\n",
              "<svg xmlns=\"http://www.w3.org/2000/svg\" height=\"24px\"viewBox=\"0 0 24 24\"\n",
              "     width=\"24px\">\n",
              "    <g>\n",
              "        <path d=\"M19 3H5c-1.1 0-2 .9-2 2v14c0 1.1.9 2 2 2h14c1.1 0 2-.9 2-2V5c0-1.1-.9-2-2-2zM9 17H7v-7h2v7zm4 0h-2V7h2v10zm4 0h-2v-4h2v4z\"/>\n",
              "    </g>\n",
              "</svg>\n",
              "  </button>\n",
              "\n",
              "<style>\n",
              "  .colab-df-quickchart {\n",
              "      --bg-color: #E8F0FE;\n",
              "      --fill-color: #1967D2;\n",
              "      --hover-bg-color: #E2EBFA;\n",
              "      --hover-fill-color: #174EA6;\n",
              "      --disabled-fill-color: #AAA;\n",
              "      --disabled-bg-color: #DDD;\n",
              "  }\n",
              "\n",
              "  [theme=dark] .colab-df-quickchart {\n",
              "      --bg-color: #3B4455;\n",
              "      --fill-color: #D2E3FC;\n",
              "      --hover-bg-color: #434B5C;\n",
              "      --hover-fill-color: #FFFFFF;\n",
              "      --disabled-bg-color: #3B4455;\n",
              "      --disabled-fill-color: #666;\n",
              "  }\n",
              "\n",
              "  .colab-df-quickchart {\n",
              "    background-color: var(--bg-color);\n",
              "    border: none;\n",
              "    border-radius: 50%;\n",
              "    cursor: pointer;\n",
              "    display: none;\n",
              "    fill: var(--fill-color);\n",
              "    height: 32px;\n",
              "    padding: 0;\n",
              "    width: 32px;\n",
              "  }\n",
              "\n",
              "  .colab-df-quickchart:hover {\n",
              "    background-color: var(--hover-bg-color);\n",
              "    box-shadow: 0 1px 2px rgba(60, 64, 67, 0.3), 0 1px 3px 1px rgba(60, 64, 67, 0.15);\n",
              "    fill: var(--button-hover-fill-color);\n",
              "  }\n",
              "\n",
              "  .colab-df-quickchart-complete:disabled,\n",
              "  .colab-df-quickchart-complete:disabled:hover {\n",
              "    background-color: var(--disabled-bg-color);\n",
              "    fill: var(--disabled-fill-color);\n",
              "    box-shadow: none;\n",
              "  }\n",
              "\n",
              "  .colab-df-spinner {\n",
              "    border: 2px solid var(--fill-color);\n",
              "    border-color: transparent;\n",
              "    border-bottom-color: var(--fill-color);\n",
              "    animation:\n",
              "      spin 1s steps(1) infinite;\n",
              "  }\n",
              "\n",
              "  @keyframes spin {\n",
              "    0% {\n",
              "      border-color: transparent;\n",
              "      border-bottom-color: var(--fill-color);\n",
              "      border-left-color: var(--fill-color);\n",
              "    }\n",
              "    20% {\n",
              "      border-color: transparent;\n",
              "      border-left-color: var(--fill-color);\n",
              "      border-top-color: var(--fill-color);\n",
              "    }\n",
              "    30% {\n",
              "      border-color: transparent;\n",
              "      border-left-color: var(--fill-color);\n",
              "      border-top-color: var(--fill-color);\n",
              "      border-right-color: var(--fill-color);\n",
              "    }\n",
              "    40% {\n",
              "      border-color: transparent;\n",
              "      border-right-color: var(--fill-color);\n",
              "      border-top-color: var(--fill-color);\n",
              "    }\n",
              "    60% {\n",
              "      border-color: transparent;\n",
              "      border-right-color: var(--fill-color);\n",
              "    }\n",
              "    80% {\n",
              "      border-color: transparent;\n",
              "      border-right-color: var(--fill-color);\n",
              "      border-bottom-color: var(--fill-color);\n",
              "    }\n",
              "    90% {\n",
              "      border-color: transparent;\n",
              "      border-bottom-color: var(--fill-color);\n",
              "    }\n",
              "  }\n",
              "</style>\n",
              "\n",
              "  <script>\n",
              "    async function quickchart(key) {\n",
              "      const quickchartButtonEl =\n",
              "        document.querySelector('#' + key + ' button');\n",
              "      quickchartButtonEl.disabled = true;  // To prevent multiple clicks.\n",
              "      quickchartButtonEl.classList.add('colab-df-spinner');\n",
              "      try {\n",
              "        const charts = await google.colab.kernel.invokeFunction(\n",
              "            'suggestCharts', [key], {});\n",
              "      } catch (error) {\n",
              "        console.error('Error during call to suggestCharts:', error);\n",
              "      }\n",
              "      quickchartButtonEl.classList.remove('colab-df-spinner');\n",
              "      quickchartButtonEl.classList.add('colab-df-quickchart-complete');\n",
              "    }\n",
              "    (() => {\n",
              "      let quickchartButtonEl =\n",
              "        document.querySelector('#df-b41415ef-e24b-4efc-923d-2742255c46f1 button');\n",
              "      quickchartButtonEl.style.display =\n",
              "        google.colab.kernel.accessAllowed ? 'block' : 'none';\n",
              "    })();\n",
              "  </script>\n",
              "</div>\n",
              "    </div>\n",
              "  </div>\n"
            ]
          },
          "metadata": {},
          "execution_count": 26
        }
      ]
    },
    {
      "cell_type": "code",
      "source": [
        "x=df_p[['quantity tons_log','application','thickness_log','width','selling_price_log','country','customer','product_ref']]"
      ],
      "metadata": {
        "id": "QeQPi5QgG1zN"
      },
      "execution_count": null,
      "outputs": []
    },
    {
      "cell_type": "code",
      "source": [
        "sns.heatmap(x, annot=True, cmap=\"YlGnBu\")"
      ],
      "metadata": {
        "id": "c2J1-8xGH64Q"
      },
      "execution_count": null,
      "outputs": []
    },
    {
      "cell_type": "code",
      "source": [
        "# DECISION TREE REGRESSOR\n",
        "# 1 Encode categorical features\n",
        "# 2 Test and Train split\n",
        "# 3 Define Hyperparameters for GridSearchCV\n",
        "# 4 Train the DecisionTreeRegressor with best parameters\n",
        "# 5 Evalution metrics\n",
        "# 6 Predict the selling price for new values\n",
        "# 7 Save the DecisionTreeRegressor model\n",
        "\n"
      ],
      "metadata": {
        "id": "M8Qo3LLuIMI3"
      },
      "execution_count": null,
      "outputs": []
    },
    {
      "cell_type": "code",
      "source": [
        "import pandas as pd\n",
        "import numpy as np\n",
        "from sklearn.model_selection import train_test_split\n",
        "from sklearn.tree import DecisionTreeRegressor\n",
        "from sklearn.preprocessing import StandardScaler, OneHotEncoder\n",
        "from sklearn.metrics import mean_squared_error, r2_score\n",
        "from sklearn.model_selection import GridSearchCV\n",
        "\n",
        "X=df_p[['quantity tons_log','status','item type','application','thickness_log','width','country','customer','product_ref']]\n",
        "y=df_p['selling_price_log']\n",
        "# encoding categorical variables\n",
        "ohe = OneHotEncoder(handle_unknown='ignore')\n",
        "ohe.fit(X[['item type']])\n",
        "X_ohe = ohe.fit_transform(X[['item type']]).toarray()\n",
        "ohe2 = OneHotEncoder(handle_unknown='ignore')\n",
        "ohe2.fit(X[['status']])\n",
        "X_be = ohe2.fit_transform(X[['status']]).toarray()\n",
        "# independent features after encoding\n",
        "X = np.concatenate((X[['quantity tons_log', 'application', 'thickness_log', 'width','country','customer','product_ref']].values, X_ohe, X_be), axis=1)\n",
        "scaler = StandardScaler()\n",
        "X = scaler.fit_transform(X)\n",
        "# test and train split\n",
        "X_train, X_test, y_train, y_test = train_test_split(X, y, test_size=0.1, random_state=42)\n",
        "# decision tree\n",
        "dtr = DecisionTreeRegressor()\n",
        "# hyperparameters\n",
        "param_grid = {'max_depth': [2, 5, 10, 20],\n",
        "              'min_samples_split': [2, 5, 10],\n",
        "              'min_samples_leaf': [1, 2, 4],\n",
        "              'max_features': ['auto', 'sqrt', 'log2']}\n",
        "# gridsearchcv\n",
        "grid_search = GridSearchCV(estimator=dtr, param_grid=param_grid, cv=5)\n",
        "grid_search.fit(X_train, y_train)\n",
        "print(\"Best hyperparameters:\", grid_search.best_params_)\n",
        "best_model = grid_search.best_estimator_\n",
        "y_pred = best_model.predict(X_test)\n",
        "# evalution metrics\n",
        "mse = mean_squared_error(y_test, y_pred)\n",
        "r2 = r2_score(y_test, y_pred)\n",
        "print('Mean squared error:', mse)\n",
        "print('R-squared:', r2)"
      ],
      "metadata": {
        "colab": {
          "base_uri": "https://localhost:8080/"
        },
        "id": "mU89s2nqKA31",
        "outputId": "8db96cb5-6d94-4025-dd4a-c44bd9e1d144"
      },
      "execution_count": null,
      "outputs": [
        {
          "output_type": "stream",
          "name": "stdout",
          "text": [
            "Best hyperparameters: {'max_depth': 20, 'max_features': 'auto', 'min_samples_leaf': 1, 'min_samples_split': 5}\n",
            "Mean squared error: 0.0065025406260660334\n",
            "R-squared: 0.9848790878989241\n"
          ]
        }
      ]
    },
    {
      "cell_type": "code",
      "source": [
        "# ['quantity tons_log', 'application', 'thickness_log', 'width','country','customer','product_ref']].values, X_ohe, X_be\n",
        "new_sample = np.array([[np.log(40), 10, np.log(250), 0, 28,30202938,1670798778,'PL','Won']])\n",
        "new_sample_ohe = ohe.transform(new_sample[:, [7]]).toarray()\n",
        "new_sample_be = ohe2.transform(new_sample[:, [8]]).toarray()\n",
        "new_sample = np.concatenate((new_sample[:, [0,1,2, 3, 4, 5, 6,]], new_sample_ohe, new_sample_be), axis=1)\n",
        "new_sample1 = scaler.transform(new_sample)\n",
        "new_pred = best_model.predict(new_sample1)\n",
        "print('Predicted selling price:', np.exp(new_pred))"
      ],
      "metadata": {
        "colab": {
          "base_uri": "https://localhost:8080/"
        },
        "id": "DHjlCJqRKFBo",
        "outputId": "6a680686-b699-4487-95b3-2e1da80f6231"
      },
      "execution_count": null,
      "outputs": [
        {
          "output_type": "stream",
          "name": "stdout",
          "text": [
            "Predicted selling price: [681.22489594]\n"
          ]
        }
      ]
    },
    {
      "cell_type": "code",
      "source": [
        "# Saving the model\n",
        "import pickle\n",
        "with open('model.pkl', 'wb') as file:\n",
        "    pickle.dump(best_model, file)\n",
        "with open('scaler.pkl', 'wb') as f:\n",
        "    pickle.dump(scaler, f)\n",
        "with open('t.pkl', 'wb') as f:\n",
        "    pickle.dump(ohe, f)\n",
        "with open('s.pkl', 'wb') as f:\n",
        "    pickle.dump(ohe2, f)"
      ],
      "metadata": {
        "id": "wSC9qswFK7ih"
      },
      "execution_count": null,
      "outputs": []
    },
    {
      "cell_type": "code",
      "source": [
        "print(len(df_p))\n",
        "df_p.head(3)"
      ],
      "metadata": {
        "colab": {
          "base_uri": "https://localhost:8080/",
          "height": 354
        },
        "id": "eha0kYYsLF8v",
        "outputId": "b7e8c3af-7f2c-4bb3-df87-37742498b7fa"
      },
      "execution_count": null,
      "outputs": [
        {
          "output_type": "stream",
          "name": "stdout",
          "text": [
            "33534\n"
          ]
        },
        {
          "output_type": "execute_result",
          "data": {
            "text/plain": [
              "                                     id   item_date  quantity tons  \\\n",
              "0  EC06F063-9DF0-440C-8764-0B0C05A4F6AE  2021-04-01      54.151139   \n",
              "1  4E5F4B3D-DDDF-499D-AFDE-A3227EC49425  2021-04-01     768.024839   \n",
              "2  E140FF1B-2407-4C02-A0DD-780A093B1158  2021-04-01     386.127949   \n",
              "\n",
              "     customer  country status item type  application  thickness   width  \\\n",
              "0  30156308.0     28.0    Won         W         10.0       2.00  1500.0   \n",
              "1  30202938.0     25.0    Won         W         41.0       0.80  1210.0   \n",
              "2  30153963.0     30.0    Won        WI         28.0       0.38   952.0   \n",
              "\n",
              "  material_ref   product_ref delivery date  selling_price  selling_price_log  \\\n",
              "0  DEQ1 S460MC  1.670799e+09    2021-07-01         854.00           6.749931   \n",
              "1       104991  1.668702e+09    2021-04-01        1047.00           6.953684   \n",
              "2     S0380700  6.283770e+05    2021-01-01         644.33           6.468211   \n",
              "\n",
              "   quantity tons_log  thickness_log  \n",
              "0           3.991779       0.693147  \n",
              "1           6.643822      -0.223144  \n",
              "2           5.956169      -0.967584  "
            ],
            "text/html": [
              "\n",
              "  <div id=\"df-0bb1570a-80cd-4985-b103-9bd0ec765dce\" class=\"colab-df-container\">\n",
              "    <div>\n",
              "<style scoped>\n",
              "    .dataframe tbody tr th:only-of-type {\n",
              "        vertical-align: middle;\n",
              "    }\n",
              "\n",
              "    .dataframe tbody tr th {\n",
              "        vertical-align: top;\n",
              "    }\n",
              "\n",
              "    .dataframe thead th {\n",
              "        text-align: right;\n",
              "    }\n",
              "</style>\n",
              "<table border=\"1\" class=\"dataframe\">\n",
              "  <thead>\n",
              "    <tr style=\"text-align: right;\">\n",
              "      <th></th>\n",
              "      <th>id</th>\n",
              "      <th>item_date</th>\n",
              "      <th>quantity tons</th>\n",
              "      <th>customer</th>\n",
              "      <th>country</th>\n",
              "      <th>status</th>\n",
              "      <th>item type</th>\n",
              "      <th>application</th>\n",
              "      <th>thickness</th>\n",
              "      <th>width</th>\n",
              "      <th>material_ref</th>\n",
              "      <th>product_ref</th>\n",
              "      <th>delivery date</th>\n",
              "      <th>selling_price</th>\n",
              "      <th>selling_price_log</th>\n",
              "      <th>quantity tons_log</th>\n",
              "      <th>thickness_log</th>\n",
              "    </tr>\n",
              "  </thead>\n",
              "  <tbody>\n",
              "    <tr>\n",
              "      <th>0</th>\n",
              "      <td>EC06F063-9DF0-440C-8764-0B0C05A4F6AE</td>\n",
              "      <td>2021-04-01</td>\n",
              "      <td>54.151139</td>\n",
              "      <td>30156308.0</td>\n",
              "      <td>28.0</td>\n",
              "      <td>Won</td>\n",
              "      <td>W</td>\n",
              "      <td>10.0</td>\n",
              "      <td>2.00</td>\n",
              "      <td>1500.0</td>\n",
              "      <td>DEQ1 S460MC</td>\n",
              "      <td>1.670799e+09</td>\n",
              "      <td>2021-07-01</td>\n",
              "      <td>854.00</td>\n",
              "      <td>6.749931</td>\n",
              "      <td>3.991779</td>\n",
              "      <td>0.693147</td>\n",
              "    </tr>\n",
              "    <tr>\n",
              "      <th>1</th>\n",
              "      <td>4E5F4B3D-DDDF-499D-AFDE-A3227EC49425</td>\n",
              "      <td>2021-04-01</td>\n",
              "      <td>768.024839</td>\n",
              "      <td>30202938.0</td>\n",
              "      <td>25.0</td>\n",
              "      <td>Won</td>\n",
              "      <td>W</td>\n",
              "      <td>41.0</td>\n",
              "      <td>0.80</td>\n",
              "      <td>1210.0</td>\n",
              "      <td>104991</td>\n",
              "      <td>1.668702e+09</td>\n",
              "      <td>2021-04-01</td>\n",
              "      <td>1047.00</td>\n",
              "      <td>6.953684</td>\n",
              "      <td>6.643822</td>\n",
              "      <td>-0.223144</td>\n",
              "    </tr>\n",
              "    <tr>\n",
              "      <th>2</th>\n",
              "      <td>E140FF1B-2407-4C02-A0DD-780A093B1158</td>\n",
              "      <td>2021-04-01</td>\n",
              "      <td>386.127949</td>\n",
              "      <td>30153963.0</td>\n",
              "      <td>30.0</td>\n",
              "      <td>Won</td>\n",
              "      <td>WI</td>\n",
              "      <td>28.0</td>\n",
              "      <td>0.38</td>\n",
              "      <td>952.0</td>\n",
              "      <td>S0380700</td>\n",
              "      <td>6.283770e+05</td>\n",
              "      <td>2021-01-01</td>\n",
              "      <td>644.33</td>\n",
              "      <td>6.468211</td>\n",
              "      <td>5.956169</td>\n",
              "      <td>-0.967584</td>\n",
              "    </tr>\n",
              "  </tbody>\n",
              "</table>\n",
              "</div>\n",
              "    <div class=\"colab-df-buttons\">\n",
              "\n",
              "  <div class=\"colab-df-container\">\n",
              "    <button class=\"colab-df-convert\" onclick=\"convertToInteractive('df-0bb1570a-80cd-4985-b103-9bd0ec765dce')\"\n",
              "            title=\"Convert this dataframe to an interactive table.\"\n",
              "            style=\"display:none;\">\n",
              "\n",
              "  <svg xmlns=\"http://www.w3.org/2000/svg\" height=\"24px\" viewBox=\"0 -960 960 960\">\n",
              "    <path d=\"M120-120v-720h720v720H120Zm60-500h600v-160H180v160Zm220 220h160v-160H400v160Zm0 220h160v-160H400v160ZM180-400h160v-160H180v160Zm440 0h160v-160H620v160ZM180-180h160v-160H180v160Zm440 0h160v-160H620v160Z\"/>\n",
              "  </svg>\n",
              "    </button>\n",
              "\n",
              "  <style>\n",
              "    .colab-df-container {\n",
              "      display:flex;\n",
              "      gap: 12px;\n",
              "    }\n",
              "\n",
              "    .colab-df-convert {\n",
              "      background-color: #E8F0FE;\n",
              "      border: none;\n",
              "      border-radius: 50%;\n",
              "      cursor: pointer;\n",
              "      display: none;\n",
              "      fill: #1967D2;\n",
              "      height: 32px;\n",
              "      padding: 0 0 0 0;\n",
              "      width: 32px;\n",
              "    }\n",
              "\n",
              "    .colab-df-convert:hover {\n",
              "      background-color: #E2EBFA;\n",
              "      box-shadow: 0px 1px 2px rgba(60, 64, 67, 0.3), 0px 1px 3px 1px rgba(60, 64, 67, 0.15);\n",
              "      fill: #174EA6;\n",
              "    }\n",
              "\n",
              "    .colab-df-buttons div {\n",
              "      margin-bottom: 4px;\n",
              "    }\n",
              "\n",
              "    [theme=dark] .colab-df-convert {\n",
              "      background-color: #3B4455;\n",
              "      fill: #D2E3FC;\n",
              "    }\n",
              "\n",
              "    [theme=dark] .colab-df-convert:hover {\n",
              "      background-color: #434B5C;\n",
              "      box-shadow: 0px 1px 3px 1px rgba(0, 0, 0, 0.15);\n",
              "      filter: drop-shadow(0px 1px 2px rgba(0, 0, 0, 0.3));\n",
              "      fill: #FFFFFF;\n",
              "    }\n",
              "  </style>\n",
              "\n",
              "    <script>\n",
              "      const buttonEl =\n",
              "        document.querySelector('#df-0bb1570a-80cd-4985-b103-9bd0ec765dce button.colab-df-convert');\n",
              "      buttonEl.style.display =\n",
              "        google.colab.kernel.accessAllowed ? 'block' : 'none';\n",
              "\n",
              "      async function convertToInteractive(key) {\n",
              "        const element = document.querySelector('#df-0bb1570a-80cd-4985-b103-9bd0ec765dce');\n",
              "        const dataTable =\n",
              "          await google.colab.kernel.invokeFunction('convertToInteractive',\n",
              "                                                    [key], {});\n",
              "        if (!dataTable) return;\n",
              "\n",
              "        const docLinkHtml = 'Like what you see? Visit the ' +\n",
              "          '<a target=\"_blank\" href=https://colab.research.google.com/notebooks/data_table.ipynb>data table notebook</a>'\n",
              "          + ' to learn more about interactive tables.';\n",
              "        element.innerHTML = '';\n",
              "        dataTable['output_type'] = 'display_data';\n",
              "        await google.colab.output.renderOutput(dataTable, element);\n",
              "        const docLink = document.createElement('div');\n",
              "        docLink.innerHTML = docLinkHtml;\n",
              "        element.appendChild(docLink);\n",
              "      }\n",
              "    </script>\n",
              "  </div>\n",
              "\n",
              "\n",
              "<div id=\"df-900b6a5b-4063-4a17-aad6-c3fbf2ab14fb\">\n",
              "  <button class=\"colab-df-quickchart\" onclick=\"quickchart('df-900b6a5b-4063-4a17-aad6-c3fbf2ab14fb')\"\n",
              "            title=\"Suggest charts.\"\n",
              "            style=\"display:none;\">\n",
              "\n",
              "<svg xmlns=\"http://www.w3.org/2000/svg\" height=\"24px\"viewBox=\"0 0 24 24\"\n",
              "     width=\"24px\">\n",
              "    <g>\n",
              "        <path d=\"M19 3H5c-1.1 0-2 .9-2 2v14c0 1.1.9 2 2 2h14c1.1 0 2-.9 2-2V5c0-1.1-.9-2-2-2zM9 17H7v-7h2v7zm4 0h-2V7h2v10zm4 0h-2v-4h2v4z\"/>\n",
              "    </g>\n",
              "</svg>\n",
              "  </button>\n",
              "\n",
              "<style>\n",
              "  .colab-df-quickchart {\n",
              "      --bg-color: #E8F0FE;\n",
              "      --fill-color: #1967D2;\n",
              "      --hover-bg-color: #E2EBFA;\n",
              "      --hover-fill-color: #174EA6;\n",
              "      --disabled-fill-color: #AAA;\n",
              "      --disabled-bg-color: #DDD;\n",
              "  }\n",
              "\n",
              "  [theme=dark] .colab-df-quickchart {\n",
              "      --bg-color: #3B4455;\n",
              "      --fill-color: #D2E3FC;\n",
              "      --hover-bg-color: #434B5C;\n",
              "      --hover-fill-color: #FFFFFF;\n",
              "      --disabled-bg-color: #3B4455;\n",
              "      --disabled-fill-color: #666;\n",
              "  }\n",
              "\n",
              "  .colab-df-quickchart {\n",
              "    background-color: var(--bg-color);\n",
              "    border: none;\n",
              "    border-radius: 50%;\n",
              "    cursor: pointer;\n",
              "    display: none;\n",
              "    fill: var(--fill-color);\n",
              "    height: 32px;\n",
              "    padding: 0;\n",
              "    width: 32px;\n",
              "  }\n",
              "\n",
              "  .colab-df-quickchart:hover {\n",
              "    background-color: var(--hover-bg-color);\n",
              "    box-shadow: 0 1px 2px rgba(60, 64, 67, 0.3), 0 1px 3px 1px rgba(60, 64, 67, 0.15);\n",
              "    fill: var(--button-hover-fill-color);\n",
              "  }\n",
              "\n",
              "  .colab-df-quickchart-complete:disabled,\n",
              "  .colab-df-quickchart-complete:disabled:hover {\n",
              "    background-color: var(--disabled-bg-color);\n",
              "    fill: var(--disabled-fill-color);\n",
              "    box-shadow: none;\n",
              "  }\n",
              "\n",
              "  .colab-df-spinner {\n",
              "    border: 2px solid var(--fill-color);\n",
              "    border-color: transparent;\n",
              "    border-bottom-color: var(--fill-color);\n",
              "    animation:\n",
              "      spin 1s steps(1) infinite;\n",
              "  }\n",
              "\n",
              "  @keyframes spin {\n",
              "    0% {\n",
              "      border-color: transparent;\n",
              "      border-bottom-color: var(--fill-color);\n",
              "      border-left-color: var(--fill-color);\n",
              "    }\n",
              "    20% {\n",
              "      border-color: transparent;\n",
              "      border-left-color: var(--fill-color);\n",
              "      border-top-color: var(--fill-color);\n",
              "    }\n",
              "    30% {\n",
              "      border-color: transparent;\n",
              "      border-left-color: var(--fill-color);\n",
              "      border-top-color: var(--fill-color);\n",
              "      border-right-color: var(--fill-color);\n",
              "    }\n",
              "    40% {\n",
              "      border-color: transparent;\n",
              "      border-right-color: var(--fill-color);\n",
              "      border-top-color: var(--fill-color);\n",
              "    }\n",
              "    60% {\n",
              "      border-color: transparent;\n",
              "      border-right-color: var(--fill-color);\n",
              "    }\n",
              "    80% {\n",
              "      border-color: transparent;\n",
              "      border-right-color: var(--fill-color);\n",
              "      border-bottom-color: var(--fill-color);\n",
              "    }\n",
              "    90% {\n",
              "      border-color: transparent;\n",
              "      border-bottom-color: var(--fill-color);\n",
              "    }\n",
              "  }\n",
              "</style>\n",
              "\n",
              "  <script>\n",
              "    async function quickchart(key) {\n",
              "      const quickchartButtonEl =\n",
              "        document.querySelector('#' + key + ' button');\n",
              "      quickchartButtonEl.disabled = true;  // To prevent multiple clicks.\n",
              "      quickchartButtonEl.classList.add('colab-df-spinner');\n",
              "      try {\n",
              "        const charts = await google.colab.kernel.invokeFunction(\n",
              "            'suggestCharts', [key], {});\n",
              "      } catch (error) {\n",
              "        console.error('Error during call to suggestCharts:', error);\n",
              "      }\n",
              "      quickchartButtonEl.classList.remove('colab-df-spinner');\n",
              "      quickchartButtonEl.classList.add('colab-df-quickchart-complete');\n",
              "    }\n",
              "    (() => {\n",
              "      let quickchartButtonEl =\n",
              "        document.querySelector('#df-900b6a5b-4063-4a17-aad6-c3fbf2ab14fb button');\n",
              "      quickchartButtonEl.style.display =\n",
              "        google.colab.kernel.accessAllowed ? 'block' : 'none';\n",
              "    })();\n",
              "  </script>\n",
              "</div>\n",
              "    </div>\n",
              "  </div>\n"
            ]
          },
          "metadata": {},
          "execution_count": 37
        }
      ]
    },
    {
      "cell_type": "code",
      "source": [
        "df_c = df_p[df_p['status'].isin(['Won', 'Lost'])]\n",
        "len(df_c)"
      ],
      "metadata": {
        "colab": {
          "base_uri": "https://localhost:8080/"
        },
        "id": "HgveBgW0LbMb",
        "outputId": "9a1a2c0d-b24e-44f9-c6a0-29b2a82f160d"
      },
      "execution_count": null,
      "outputs": [
        {
          "output_type": "execute_result",
          "data": {
            "text/plain": [
              "28258"
            ]
          },
          "metadata": {},
          "execution_count": 38
        }
      ]
    },
    {
      "cell_type": "markdown",
      "source": [
        "DECISION TREE CLASSIFIER"
      ],
      "metadata": {
        "id": "BqujIDObLjFk"
      }
    },
    {
      "cell_type": "code",
      "source": [
        "from sklearn.tree import DecisionTreeClassifier\n",
        "from sklearn.model_selection import train_test_split\n",
        "from sklearn.metrics import accuracy_score, confusion_matrix\n",
        "from sklearn.preprocessing import StandardScaler, OneHotEncoder,LabelBinarizer\n",
        "\n",
        "Y = df_c['status']\n",
        "X= df_c[['quantity tons_log','selling_price_log','item type','application','thickness_log','width','country','customer','product_ref']]\n",
        "\n",
        "# encoding categorical variables\n",
        "ohe = OneHotEncoder(handle_unknown='ignore')\n",
        "ohe.fit(X[['item type']])\n",
        "X_ohe = ohe.fit_transform(X[['item type']]).toarray()\n",
        "be = LabelBinarizer()\n",
        "be.fit(Y)\n",
        "y = be.fit_transform(Y)\n",
        "# independent features after encoding\n",
        "X = np.concatenate((X[['quantity tons_log', 'selling_price_log','application', 'thickness_log', 'width','country','customer','product_ref']].values, X_ohe), axis=1)\n",
        "scaler = StandardScaler()\n",
        "X = scaler.fit_transform(X)\n",
        "\n",
        "X_train, X_test, y_train, y_test = train_test_split(X, y, test_size=0.2, random_state=42)\n",
        "# decision tree classifier\n",
        "dtc = DecisionTreeClassifier()\n",
        "dtc.fit(X_train, y_train)\n",
        "y_pred = dtc.predict(X_test)\n",
        "\n",
        "accuracy = accuracy_score(y_test, y_pred)\n",
        "print(f\"Accuracy: {accuracy}\")\n",
        "cm = confusion_matrix(y_test, y_pred)\n",
        "print(f\"Confusion Matrix:\\n{cm}\")"
      ],
      "metadata": {
        "colab": {
          "base_uri": "https://localhost:8080/"
        },
        "id": "IFa4CBcALb6O",
        "outputId": "b9ee91d4-aafe-4c91-f84b-8ce587a0fe59"
      },
      "execution_count": null,
      "outputs": [
        {
          "output_type": "stream",
          "name": "stdout",
          "text": [
            "Accuracy: 0.9384288747346072\n",
            "Confusion Matrix:\n",
            "[[ 598  192]\n",
            " [ 156 4706]]\n"
          ]
        }
      ]
    },
    {
      "cell_type": "code",
      "source": [
        "# Evalution Metrics\n",
        "from sklearn.metrics import confusion_matrix, classification_report, roc_curve, auc\n",
        "import matplotlib.pyplot as plt\n",
        "print(\"Confusion Matrix:\")\n",
        "print(confusion_matrix(y_test, y_pred))\n",
        "print(\"Classification Report:\")\n",
        "print(classification_report(y_test, y_pred))\n",
        "# ROC curve and AUC\n",
        "fpr, tpr, thresholds = roc_curve(y_test, y_pred)\n",
        "roc_auc = auc(fpr, tpr)\n",
        "plt.plot(fpr, tpr, label='ROC curve (area = %0.2f)' % roc_auc)\n",
        "plt.plot([0, 1], [0, 1], 'k--')\n",
        "plt.xlim([0.0, 1.0])\n",
        "plt.ylim([0.0, 1.05])\n",
        "plt.xlabel('False Positive Rate')\n",
        "plt.ylabel('True Positive Rate')\n",
        "plt.title('Receiver operating characteristic')\n",
        "plt.legend(loc=\"lower right\")\n",
        "plt.show()"
      ],
      "metadata": {
        "colab": {
          "base_uri": "https://localhost:8080/",
          "height": 698
        },
        "id": "8yH5SG7oLqmk",
        "outputId": "be174299-1891-43ee-b8ed-38656b254330"
      },
      "execution_count": null,
      "outputs": [
        {
          "output_type": "stream",
          "name": "stdout",
          "text": [
            "Confusion Matrix:\n",
            "[[ 598  192]\n",
            " [ 156 4706]]\n",
            "Classification Report:\n",
            "              precision    recall  f1-score   support\n",
            "\n",
            "           0       0.79      0.76      0.77       790\n",
            "           1       0.96      0.97      0.96      4862\n",
            "\n",
            "    accuracy                           0.94      5652\n",
            "   macro avg       0.88      0.86      0.87      5652\n",
            "weighted avg       0.94      0.94      0.94      5652\n",
            "\n"
          ]
        },
        {
          "output_type": "display_data",
          "data": {
            "text/plain": [
              "<Figure size 640x480 with 1 Axes>"
            ],
            "image/png": "[encoded data removed]"
          },
          "metadata": {}
        }
      ]
    },
    {
      "cell_type": "code",
      "source": [
        "# Predict the status for a new sample\n",
        "# 'quantity tons_log', 'selling_price_log','application', 'thickness_log', 'width','country','customer','product_ref']].values, X_ohe\n",
        "new_sample = np.array([[np.log(700), np.log(956), 10, np.log(2),1500,28.0,30202938,1670798778,'W']])\n",
        "new_sample_ohe = ohe.transform(new_sample[:, [8]]).toarray()\n",
        "new_sample = np.concatenate((new_sample[:, [0,1,2, 3, 4, 5, 6,7]], new_sample_ohe), axis=1)\n",
        "new_sample = scaler.transform(new_sample)\n",
        "new_pred = dtc.predict(new_sample)\n",
        "if new_pred==1:\n",
        "    print('The status is: Won')\n",
        "else:\n",
        "    print('The status is: Lost')"
      ],
      "metadata": {
        "colab": {
          "base_uri": "https://localhost:8080/"
        },
        "id": "C_-ysNnCLv7L",
        "outputId": "1732e9ac-7256-4db9-b9ce-c5ef5494e13b"
      },
      "execution_count": null,
      "outputs": [
        {
          "output_type": "stream",
          "name": "stdout",
          "text": [
            "The status is: Won\n"
          ]
        }
      ]
    },
    {
      "cell_type": "code",
      "source": [
        "# Saving the model\n",
        "import pickle\n",
        "with open('cmodel.pkl', 'wb') as file:\n",
        "    pickle.dump(dtc, file)\n",
        "with open('cscaler.pkl', 'wb') as f:\n",
        "    pickle.dump(scaler, f)\n",
        "with open('ct.pkl', 'wb') as f:\n",
        "    pickle.dump(ohe, f)"
      ],
      "metadata": {
        "id": "Saqio4zYL24W"
      },
      "execution_count": null,
      "outputs": []
    },
    {
      "cell_type": "code",
      "source": [],
      "metadata": {
        "id": "hY4mSN3BL7s0"
      },
      "execution_count": null,
      "outputs": []
    }
  ]
}